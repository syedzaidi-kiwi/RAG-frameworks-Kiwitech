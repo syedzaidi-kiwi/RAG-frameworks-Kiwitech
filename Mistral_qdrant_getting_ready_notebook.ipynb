{
  "cells": [
    {
      "cell_type": "markdown",
      "metadata": {
        "id": "view-in-github",
        "colab_type": "text"
      },
      "source": [
        "<a href=\"https://colab.research.google.com/github/syedzaidi-kiwi/RAG-frameworks-Kiwitech/blob/main/Mistral_qdrant_getting_ready_notebook.ipynb\" target=\"_parent\"><img src=\"https://colab.research.google.com/assets/colab-badge.svg\" alt=\"Open In Colab\"/></a>"
      ]
    },
    {
      "cell_type": "code",
      "execution_count": null,
      "metadata": {
        "id": "6L6RK3sgy2RH"
      },
      "outputs": [],
      "source": [
        "!pip install qdrant-client mistralai -qq"
      ]
    },
    {
      "cell_type": "code",
      "execution_count": null,
      "metadata": {
        "id": "LndRazFEy2RJ"
      },
      "outputs": [],
      "source": [
        "from mistralai.client import MistralClient\n",
        "from qdrant_client import QdrantClient\n",
        "from qdrant_client.http.models import PointStruct, VectorParams, Distance\n",
        "collection_name = \"example_collection\""
      ]
    },
    {
      "cell_type": "code",
      "execution_count": null,
      "metadata": {
        "id": "w9FW4vq3y2RJ"
      },
      "outputs": [],
      "source": [
        "MISTRAL_API_KEY = \"your_mistral_api_key\""
      ]
    },
    {
      "cell_type": "code",
      "execution_count": null,
      "metadata": {
        "id": "w4JxPOrTy2RK"
      },
      "outputs": [],
      "source": [
        "search_client = QdrantClient(\":memory:\")\n",
        "mistral_client = MistralClient(api_key=MISTRAL_API_KEY)\n",
        "texts = [\n",
        "    \"Qdrant is the best vector search engine!\",\n",
        "    \"Loved by Enterprises and everyone building for low latency, high performance, and scale.\",\n",
        "]"
      ]
    },
    {
      "cell_type": "code",
      "execution_count": null,
      "metadata": {
        "id": "M4a-3Rf8y2RK"
      },
      "outputs": [],
      "source": [
        "result = mistral_client.embeddings(\n",
        "    model=\"mistral-embed\",\n",
        "    input=texts,\n",
        ")"
      ]
    },
    {
      "cell_type": "code",
      "execution_count": null,
      "metadata": {
        "id": "sGPZud5_y2RK",
        "outputId": "85f5dfa8-e833-4fd1-fca6-dda8b1541d1c"
      },
      "outputs": [
        {
          "data": {
            "text/plain": [
              "1024"
            ]
          },
          "execution_count": 6,
          "metadata": {},
          "output_type": "execute_result"
        }
      ],
      "source": [
        "len(result.data[0].embedding)"
      ]
    },
    {
      "cell_type": "code",
      "execution_count": null,
      "metadata": {
        "id": "wf0TQtlSy2RK"
      },
      "outputs": [],
      "source": [
        "points = [\n",
        "    PointStruct(\n",
        "        id=idx,\n",
        "        vector=response.embedding,\n",
        "        payload={\"text\": text},\n",
        "    )\n",
        "    for idx, (response, text) in enumerate(zip(result.data, texts))\n",
        "]"
      ]
    },
    {
      "cell_type": "code",
      "execution_count": null,
      "metadata": {
        "id": "LraUY5g0y2RL",
        "outputId": "ce3817fc-ae07-44a4-b2a7-b5bc6086072d"
      },
      "outputs": [
        {
          "data": {
            "text/plain": [
              "UpdateResult(operation_id=0, status=<UpdateStatus.COMPLETED: 'completed'>)"
            ]
          },
          "execution_count": 8,
          "metadata": {},
          "output_type": "execute_result"
        }
      ],
      "source": [
        "search_client.create_collection(collection_name, vectors_config=\n",
        "    VectorParams(\n",
        "        size=1024,\n",
        "        distance=Distance.COSINE,\n",
        "    )\n",
        ")\n",
        "search_client.upsert(collection_name, points)"
      ]
    },
    {
      "cell_type": "code",
      "execution_count": null,
      "metadata": {
        "id": "gzrcd_Qhy2RL",
        "outputId": "f71078a6-b869-44c9-e738-d8c920de62c4"
      },
      "outputs": [
        {
          "data": {
            "text/plain": [
              "[ScoredPoint(id=0, version=0, score=0.7706972129206147, payload={'text': 'Qdrant is the best vector search engine!'}, vector=None, shard_key=None),\n",
              " ScoredPoint(id=1, version=0, score=0.6887654944454833, payload={'text': 'Loved by Enterprises and everyone building for low latency, high performance, and scale.'}, vector=None, shard_key=None)]"
            ]
          },
          "execution_count": 9,
          "metadata": {},
          "output_type": "execute_result"
        }
      ],
      "source": [
        "search_client.search(\n",
        "    collection_name=collection_name,\n",
        "    query_vector=mistral_client.embeddings(\n",
        "        model=\"mistral-embed\", input=[\"What is the best to use for vector search scaling?\"]\n",
        "    ).data[0].embedding,\n",
        ")"
      ]
    }
  ],
  "metadata": {
    "kernelspec": {
      "display_name": "examples",
      "language": "python",
      "name": "python3"
    },
    "language_info": {
      "codemirror_mode": {
        "name": "ipython",
        "version": 3
      },
      "file_extension": ".py",
      "mimetype": "text/x-python",
      "name": "python",
      "nbconvert_exporter": "python",
      "pygments_lexer": "ipython3",
      "version": "3.11.8"
    },
    "colab": {
      "provenance": [],
      "include_colab_link": true
    }
  },
  "nbformat": 4,
  "nbformat_minor": 0
}